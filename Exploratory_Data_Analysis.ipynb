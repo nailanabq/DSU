{
  "cells": [
    {
      "cell_type": "markdown",
      "metadata": {
        "id": "view-in-github",
        "colab_type": "text"
      },
      "source": [
        "<a href=\"https://colab.research.google.com/github/nailanabq/DSU/blob/main/Exploratory_Data_Analysis.ipynb\" target=\"_parent\"><img src=\"https://colab.research.google.com/assets/colab-badge.svg\" alt=\"Open In Colab\"/></a>"
      ]
    },
    {
      "cell_type": "markdown",
      "id": "eac5480e",
      "metadata": {
        "id": "eac5480e"
      },
      "source": [
        "# **Tugas 3 DSU**\n",
        "\n",
        "*oleh Naila Nabiha Qonita*"
      ]
    },
    {
      "cell_type": "markdown",
      "id": "463b23af",
      "metadata": {
        "id": "463b23af"
      },
      "source": [
        "Dataset yang digunakan adalah Netflix Movies and TV Shows dari https://www.kaggle.com/datasets/shivamb/netflix-shows\n",
        "\n",
        "Keterangan variabel-variabel dari dataset tersebut adalah sebagai berikut :\n",
        "1. **show_id**, nomor ID untuk setiap konten.\n",
        "2. **type**, tipe kopnten, berisi Movie dan TV Show.\n",
        "3. **title**, judul konten.\n",
        "4. **director**, sutradara konten.\n",
        "5. **cast**, pemeran konten.\n",
        "6. **country**, asal negara konten.\n",
        "7. **date_added**, tanggal konten tersebut mulai ditayangkan di Netflix.\n",
        "8. **release_year**, tahun rilis konten.\n",
        "9. **rating**, rating konten.\n",
        "10. **duration**, durasi atau lamanya konten, berisi dalam menit dan season.\n",
        "11. **listed_in**, genre konten.\n",
        "12. **description**, deskripsi atau penjelasan tentang konten."
      ]
    },
    {
      "cell_type": "markdown",
      "source": [
        "# Import libraries"
      ],
      "metadata": {
        "id": "vkpzmC2f6Ugg"
      },
      "id": "vkpzmC2f6Ugg"
    },
    {
      "cell_type": "code",
      "execution_count": 1,
      "id": "c85b528a",
      "metadata": {
        "id": "c85b528a"
      },
      "outputs": [],
      "source": [
        "import warnings;\n",
        "warnings.simplefilter('ignore')\n",
        "import pandas as pd, numpy as np, matplotlib.pyplot as plt, seaborn as sns"
      ]
    },
    {
      "cell_type": "markdown",
      "source": [
        "# Load data"
      ],
      "metadata": {
        "id": "e4-a1efZ6tFS"
      },
      "id": "e4-a1efZ6tFS"
    },
    {
      "cell_type": "markdown",
      "source": [
        "Pastikan menyimpan data secara local dengan nama file seperti pada kode"
      ],
      "metadata": {
        "id": "-mG-Pj8y6w0f"
      },
      "id": "-mG-Pj8y6w0f"
    },
    {
      "cell_type": "code",
      "execution_count": null,
      "id": "faae671e",
      "metadata": {
        "id": "faae671e"
      },
      "outputs": [],
      "source": [
        "data = pd.read_csv('netflix_titles.csv')\n",
        "print(data.shape)"
      ]
    },
    {
      "cell_type": "code",
      "execution_count": null,
      "id": "938cba05",
      "metadata": {
        "id": "938cba05",
        "outputId": "7b02e3d2-de5e-467c-e03a-2476a355e58b"
      },
      "outputs": [
        {
          "data": {
            "text/html": [
              "<div>\n",
              "<style scoped>\n",
              "    .dataframe tbody tr th:only-of-type {\n",
              "        vertical-align: middle;\n",
              "    }\n",
              "\n",
              "    .dataframe tbody tr th {\n",
              "        vertical-align: top;\n",
              "    }\n",
              "\n",
              "    .dataframe thead th {\n",
              "        text-align: right;\n",
              "    }\n",
              "</style>\n",
              "<table border=\"1\" class=\"dataframe\">\n",
              "  <thead>\n",
              "    <tr style=\"text-align: right;\">\n",
              "      <th></th>\n",
              "      <th>show_id</th>\n",
              "      <th>type</th>\n",
              "      <th>title</th>\n",
              "      <th>director</th>\n",
              "      <th>cast</th>\n",
              "      <th>country</th>\n",
              "      <th>date_added</th>\n",
              "      <th>release_year</th>\n",
              "      <th>rating</th>\n",
              "      <th>duration</th>\n",
              "      <th>listed_in</th>\n",
              "      <th>description</th>\n",
              "    </tr>\n",
              "  </thead>\n",
              "  <tbody>\n",
              "    <tr>\n",
              "      <th>0</th>\n",
              "      <td>s1</td>\n",
              "      <td>Movie</td>\n",
              "      <td>Dick Johnson Is Dead</td>\n",
              "      <td>Kirsten Johnson</td>\n",
              "      <td>NaN</td>\n",
              "      <td>United States</td>\n",
              "      <td>September 25, 2021</td>\n",
              "      <td>2020</td>\n",
              "      <td>PG-13</td>\n",
              "      <td>90 min</td>\n",
              "      <td>Documentaries</td>\n",
              "      <td>As her father nears the end of his life, filmm...</td>\n",
              "    </tr>\n",
              "    <tr>\n",
              "      <th>1</th>\n",
              "      <td>s2</td>\n",
              "      <td>TV Show</td>\n",
              "      <td>Blood &amp; Water</td>\n",
              "      <td>NaN</td>\n",
              "      <td>Ama Qamata, Khosi Ngema, Gail Mabalane, Thaban...</td>\n",
              "      <td>South Africa</td>\n",
              "      <td>September 24, 2021</td>\n",
              "      <td>2021</td>\n",
              "      <td>TV-MA</td>\n",
              "      <td>2 Seasons</td>\n",
              "      <td>International TV Shows, TV Dramas, TV Mysteries</td>\n",
              "      <td>After crossing paths at a party, a Cape Town t...</td>\n",
              "    </tr>\n",
              "    <tr>\n",
              "      <th>2</th>\n",
              "      <td>s3</td>\n",
              "      <td>TV Show</td>\n",
              "      <td>Ganglands</td>\n",
              "      <td>Julien Leclercq</td>\n",
              "      <td>Sami Bouajila, Tracy Gotoas, Samuel Jouy, Nabi...</td>\n",
              "      <td>NaN</td>\n",
              "      <td>September 24, 2021</td>\n",
              "      <td>2021</td>\n",
              "      <td>TV-MA</td>\n",
              "      <td>1 Season</td>\n",
              "      <td>Crime TV Shows, International TV Shows, TV Act...</td>\n",
              "      <td>To protect his family from a powerful drug lor...</td>\n",
              "    </tr>\n",
              "    <tr>\n",
              "      <th>3</th>\n",
              "      <td>s4</td>\n",
              "      <td>TV Show</td>\n",
              "      <td>Jailbirds New Orleans</td>\n",
              "      <td>NaN</td>\n",
              "      <td>NaN</td>\n",
              "      <td>NaN</td>\n",
              "      <td>September 24, 2021</td>\n",
              "      <td>2021</td>\n",
              "      <td>TV-MA</td>\n",
              "      <td>1 Season</td>\n",
              "      <td>Docuseries, Reality TV</td>\n",
              "      <td>Feuds, flirtations and toilet talk go down amo...</td>\n",
              "    </tr>\n",
              "    <tr>\n",
              "      <th>4</th>\n",
              "      <td>s5</td>\n",
              "      <td>TV Show</td>\n",
              "      <td>Kota Factory</td>\n",
              "      <td>NaN</td>\n",
              "      <td>Mayur More, Jitendra Kumar, Ranjan Raj, Alam K...</td>\n",
              "      <td>India</td>\n",
              "      <td>September 24, 2021</td>\n",
              "      <td>2021</td>\n",
              "      <td>TV-MA</td>\n",
              "      <td>2 Seasons</td>\n",
              "      <td>International TV Shows, Romantic TV Shows, TV ...</td>\n",
              "      <td>In a city of coaching centers known to train I...</td>\n",
              "    </tr>\n",
              "  </tbody>\n",
              "</table>\n",
              "</div>"
            ],
            "text/plain": [
              "  show_id     type                  title         director  \\\n",
              "0      s1    Movie   Dick Johnson Is Dead  Kirsten Johnson   \n",
              "1      s2  TV Show          Blood & Water              NaN   \n",
              "2      s3  TV Show              Ganglands  Julien Leclercq   \n",
              "3      s4  TV Show  Jailbirds New Orleans              NaN   \n",
              "4      s5  TV Show           Kota Factory              NaN   \n",
              "\n",
              "                                                cast        country  \\\n",
              "0                                                NaN  United States   \n",
              "1  Ama Qamata, Khosi Ngema, Gail Mabalane, Thaban...   South Africa   \n",
              "2  Sami Bouajila, Tracy Gotoas, Samuel Jouy, Nabi...            NaN   \n",
              "3                                                NaN            NaN   \n",
              "4  Mayur More, Jitendra Kumar, Ranjan Raj, Alam K...          India   \n",
              "\n",
              "           date_added  release_year rating   duration  \\\n",
              "0  September 25, 2021          2020  PG-13     90 min   \n",
              "1  September 24, 2021          2021  TV-MA  2 Seasons   \n",
              "2  September 24, 2021          2021  TV-MA   1 Season   \n",
              "3  September 24, 2021          2021  TV-MA   1 Season   \n",
              "4  September 24, 2021          2021  TV-MA  2 Seasons   \n",
              "\n",
              "                                           listed_in  \\\n",
              "0                                      Documentaries   \n",
              "1    International TV Shows, TV Dramas, TV Mysteries   \n",
              "2  Crime TV Shows, International TV Shows, TV Act...   \n",
              "3                             Docuseries, Reality TV   \n",
              "4  International TV Shows, Romantic TV Shows, TV ...   \n",
              "\n",
              "                                         description  \n",
              "0  As her father nears the end of his life, filmm...  \n",
              "1  After crossing paths at a party, a Cape Town t...  \n",
              "2  To protect his family from a powerful drug lor...  \n",
              "3  Feuds, flirtations and toilet talk go down amo...  \n",
              "4  In a city of coaching centers known to train I...  "
            ]
          },
          "execution_count": 13,
          "metadata": {},
          "output_type": "execute_result"
        }
      ],
      "source": [
        "data.head()"
      ]
    },
    {
      "cell_type": "code",
      "execution_count": null,
      "id": "e6abb16b",
      "metadata": {
        "scrolled": false,
        "id": "e6abb16b",
        "outputId": "67ffc057-3088-4986-b4f7-86d79c0907f5"
      },
      "outputs": [
        {
          "name": "stdout",
          "output_type": "stream",
          "text": [
            "<class 'pandas.core.frame.DataFrame'>\n",
            "RangeIndex: 8807 entries, 0 to 8806\n",
            "Data columns (total 12 columns):\n",
            " #   Column        Non-Null Count  Dtype \n",
            "---  ------        --------------  ----- \n",
            " 0   show_id       8807 non-null   object\n",
            " 1   type          8807 non-null   object\n",
            " 2   title         8807 non-null   object\n",
            " 3   director      6173 non-null   object\n",
            " 4   cast          7982 non-null   object\n",
            " 5   country       7976 non-null   object\n",
            " 6   date_added    8797 non-null   object\n",
            " 7   release_year  8807 non-null   int64 \n",
            " 8   rating        8803 non-null   object\n",
            " 9   duration      8804 non-null   object\n",
            " 10  listed_in     8807 non-null   object\n",
            " 11  description   8807 non-null   object\n",
            "dtypes: int64(1), object(11)\n",
            "memory usage: 825.8+ KB\n"
          ]
        }
      ],
      "source": [
        "data.info()"
      ]
    },
    {
      "cell_type": "code",
      "execution_count": null,
      "id": "e665e157",
      "metadata": {
        "scrolled": true,
        "id": "e665e157",
        "outputId": "ac224eb7-1d79-457a-ec3d-0c91930acf08"
      },
      "outputs": [
        {
          "data": {
            "text/plain": [
              "show_id            0\n",
              "type               0\n",
              "title              0\n",
              "director        2634\n",
              "cast             825\n",
              "country          831\n",
              "date_added        10\n",
              "release_year       0\n",
              "rating             4\n",
              "duration           3\n",
              "listed_in          0\n",
              "description        0\n",
              "dtype: int64"
            ]
          },
          "execution_count": 15,
          "metadata": {},
          "output_type": "execute_result"
        }
      ],
      "source": [
        "# Melihat jumlah NaN pada dataframe\n",
        "data.isna().sum()"
      ]
    },
    {
      "cell_type": "code",
      "execution_count": null,
      "id": "0d84ab0b",
      "metadata": {
        "id": "0d84ab0b",
        "outputId": "818b87c8-c917-4210-e78d-9612985b6f86"
      },
      "outputs": [
        {
          "data": {
            "text/plain": [
              "show_id            0\n",
              "type               0\n",
              "title              0\n",
              "director        2634\n",
              "cast             825\n",
              "country          831\n",
              "date_added        10\n",
              "release_year       0\n",
              "rating             4\n",
              "duration           0\n",
              "listed_in          0\n",
              "description        0\n",
              "dtype: int64"
            ]
          },
          "execution_count": 16,
          "metadata": {},
          "output_type": "execute_result"
        }
      ],
      "source": [
        "# Menghapus baris yang memiliki NaN pada kolom duration\n",
        "data.dropna(subset=['duration'], inplace=True)\n",
        "data.isna().sum()"
      ]
    },
    {
      "cell_type": "code",
      "execution_count": null,
      "id": "091a1f19",
      "metadata": {
        "scrolled": true,
        "id": "091a1f19",
        "outputId": "ba54da08-4376-44ef-e71c-c32e832565c4"
      },
      "outputs": [
        {
          "data": {
            "text/plain": [
              "show_id         0\n",
              "type            0\n",
              "title           0\n",
              "director        0\n",
              "cast            0\n",
              "country         0\n",
              "date_added      0\n",
              "release_year    0\n",
              "rating          0\n",
              "duration        0\n",
              "listed_in       0\n",
              "description     0\n",
              "dtype: int64"
            ]
          },
          "execution_count": 17,
          "metadata": {},
          "output_type": "execute_result"
        }
      ],
      "source": [
        "# Mengganti NaN dengan unknown\n",
        "data.fillna('Unknown', inplace=True)\n",
        "data.isna().sum()"
      ]
    },
    {
      "cell_type": "markdown",
      "id": "eaf492b8",
      "metadata": {
        "id": "eaf492b8"
      },
      "source": [
        "# Visualisasi Data"
      ]
    },
    {
      "cell_type": "markdown",
      "id": "b1dfe7f1",
      "metadata": {
        "id": "b1dfe7f1"
      },
      "source": [
        "## Pie Chart Movie vs TV Show"
      ]
    },
    {
      "cell_type": "code",
      "execution_count": null,
      "id": "aa2f150f",
      "metadata": {
        "id": "aa2f150f",
        "outputId": "ef8245e1-e6d1-48d1-bfdc-4cef700b85ba"
      },
      "outputs": [
        {
          "data": {
            "image/png": "[encoded data removed]",
            "text/plain": [
              "<Figure size 576x576 with 1 Axes>"
            ]
          },
          "metadata": {},
          "output_type": "display_data"
        }
      ],
      "source": [
        "plt.figure(figsize=(8,8))\n",
        "plt.pie(data.type.value_counts(), labels=['Movies','TV Shows'], autopct='%.2f%%')\n",
        "plt.show()"
      ]
    },
    {
      "cell_type": "markdown",
      "id": "b7040afa",
      "metadata": {
        "id": "b7040afa"
      },
      "source": [
        "Dari sini terlihat bahwa terdapat 69.62% konten Movie dan 30.38% konten TV Show.\n",
        "\n",
        "Sehingga dapat disimpulkan bahwa terdapat lebih banyak konten Movie dibandingkan dengan TV Show di Netflix."
      ]
    },
    {
      "cell_type": "markdown",
      "id": "00850017",
      "metadata": {
        "id": "00850017"
      },
      "source": [
        "## Scatterplot Rating"
      ]
    },
    {
      "cell_type": "code",
      "execution_count": null,
      "id": "77ad2214",
      "metadata": {
        "id": "77ad2214",
        "outputId": "50faac0c-b10a-446c-b6b8-c85eca720ff6"
      },
      "outputs": [
        {
          "data": {
            "image/png": "[encoded data removed]",
            "text/plain": [
              "<Figure size 1440x720 with 1 Axes>"
            ]
          },
          "metadata": {
            "needs_background": "light"
          },
          "output_type": "display_data"
        }
      ],
      "source": [
        "plt.figure(figsize=(20,10))\n",
        "sns.countplot(x='rating', data=data, order=data.rating.value_counts().index ,palette='Pastel1')\n",
        "plt.show()"
      ]
    },
    {
      "cell_type": "markdown",
      "id": "f4ac7802",
      "metadata": {
        "id": "f4ac7802"
      },
      "source": [
        "Dari grafik di atas, terlihat bahwa konten paling banyak dibuat dengan rating TV-MA, yaitu rating yang diberikan oleh US TV Parental Guidelines untuk konten penonton dewasa.\n",
        "\n",
        "Kemudian disusul dengan TV-14, yaitu konten yang mungkin tidak pantas untuk anak-anak usia di bawah 14 tahun.\n",
        "\n",
        "Di posisi ketiga terdapat TV-PG, yaitu konten disarankan dengan bimbingan orang tua.\n",
        "\n",
        "Adapun rating konten lainnya secara berurutan dari yang terbanyak adalah R, PG-13, TV-Y7. TV-Y, PG, TV-G. NR, G, TV-Y7-FV, Tidak diketahui, NC-17. dan UR."
      ]
    },
    {
      "cell_type": "markdown",
      "id": "f986fa17",
      "metadata": {
        "id": "f986fa17"
      },
      "source": [
        "## Barplot Top 10 Country"
      ]
    },
    {
      "cell_type": "code",
      "execution_count": null,
      "id": "743ed1ac",
      "metadata": {
        "id": "743ed1ac",
        "outputId": "eb2e91d1-676b-43e0-99aa-52509047c07f"
      },
      "outputs": [
        {
          "data": {
            "image/png": "[encoded data removed]",
            "text/plain": [
              "<Figure size 720x576 with 1 Axes>"
            ]
          },
          "metadata": {
            "needs_background": "light"
          },
          "output_type": "display_data"
        }
      ],
      "source": [
        "plt.figure(figsize=(10,8))\n",
        "sns.countplot(y = data.country, order = data.country.value_counts().iloc[:10].index, palette='RdBu')\n",
        "plt.xlabel('Banyaknya Konten')\n",
        "plt.ylabel('Asal Negara')\n",
        "plt.show()"
      ]
    },
    {
      "cell_type": "markdown",
      "id": "7bf1f495",
      "metadata": {
        "id": "7bf1f495"
      },
      "source": [
        "Dari grafik di atas, terlihat bahwa konten asal Amerika Serikat mendominasi di Netflix dengan jumlah konten yang lebih dari 2.500 konten. Konten asal India menyusul di posisi kedua.\n",
        "\n",
        "Jika kita abaikan konten dengan asal negara yang tidak diketahui, maka konten asal Inggris adalah konten terbanyak ketiga setelah India. Kemudian disusul oleh Jepang, Korea Selatan, Kanada, Spanyol, Perancis, dan Mexico."
      ]
    },
    {
      "cell_type": "markdown",
      "id": "732dc82c",
      "metadata": {
        "id": "732dc82c"
      },
      "source": [
        "## Lineplot TOP 10 release year"
      ]
    },
    {
      "cell_type": "code",
      "execution_count": null,
      "id": "7e04dd46",
      "metadata": {
        "id": "7e04dd46",
        "outputId": "0fd2de23-24ed-4d28-bb07-795d5506a1be"
      },
      "outputs": [
        {
          "data": {
            "image/png": "[encoded data removed]",
            "text/plain": [
              "<Figure size 720x720 with 1 Axes>"
            ]
          },
          "metadata": {
            "needs_background": "light"
          },
          "output_type": "display_data"
        }
      ],
      "source": [
        "plt.figure(figsize=(10,10))\n",
        "sns.countplot(y = data.release_year, order = data.release_year.value_counts().iloc[:10].index, palette='Pastel1')\n",
        "plt.xlabel('Banyaknya konten')\n",
        "plt.ylabel('Tahun rilis')\n",
        "plt.show()"
      ]
    },
    {
      "cell_type": "markdown",
      "id": "d2b7eaca",
      "metadata": {
        "id": "d2b7eaca"
      },
      "source": [
        "Dari grafik di atas, terlihat bahwa konten paling banyak dirilis pada tahun 2018. Kemudian kedua terbanyak adalah pada tahun 2017. Lalu ketiga terbanyak adalah pada tahun 2019. Terlihat pada ketiga tahun tersebut, terdapatlebih dari 1.000 konten dirilis pada setiap tahunnya.\n",
        "\n",
        "Kemudian secara berurutan disusul oleh tahun 2020, 2016, 2021, 2015, 2014, 2013, dan di posisi ke-10 adalah 2012."
      ]
    },
    {
      "cell_type": "markdown",
      "id": "4857ffac",
      "metadata": {
        "id": "4857ffac"
      },
      "source": [
        "## Durasi Movies"
      ]
    },
    {
      "cell_type": "code",
      "execution_count": null,
      "id": "8a24287d",
      "metadata": {
        "id": "8a24287d"
      },
      "outputs": [],
      "source": [
        "movies = data[data.type == 'Movie']\n",
        "TVshows = data[data.type == 'TV Show']"
      ]
    },
    {
      "cell_type": "code",
      "execution_count": null,
      "id": "ac7d21d8",
      "metadata": {
        "id": "ac7d21d8"
      },
      "outputs": [],
      "source": [
        "movies.duration = movies.duration.str.replace(' min','')\n",
        "movies.duration = movies.duration.astype(int)"
      ]
    },
    {
      "cell_type": "code",
      "execution_count": null,
      "id": "57c56b7d",
      "metadata": {
        "id": "57c56b7d",
        "outputId": "c13425da-dbe7-4684-962e-78221ec47b9d"
      },
      "outputs": [
        {
          "data": {
            "image/png": "[encoded data removed]",
            "text/plain": [
              "<Figure size 1152x720 with 1 Axes>"
            ]
          },
          "metadata": {},
          "output_type": "display_data"
        }
      ],
      "source": [
        "plt.figure(figsize=(16, 10))\n",
        "sns.set(style='darkgrid')\n",
        "sns.kdeplot(data=movies.duration, shade=True)\n",
        "plt.xlabel('Duration of Movies (minutes)')\n",
        "plt.show()"
      ]
    },
    {
      "cell_type": "code",
      "execution_count": null,
      "id": "21c018ab",
      "metadata": {
        "id": "21c018ab",
        "outputId": "681ff72d-42cf-4796-9ae1-ac7fcd8b8397"
      },
      "outputs": [
        {
          "name": "stdout",
          "output_type": "stream",
          "text": [
            "Durasi movie terpanjang adalah 312\n"
          ]
        }
      ],
      "source": [
        "print('Durasi movie terpanjang adalah', max(movies.duration))"
      ]
    },
    {
      "cell_type": "markdown",
      "id": "c132a446",
      "metadata": {
        "id": "c132a446"
      },
      "source": [
        "Dari grafik di atas terlihat bahwa sebagian besar Movie di Netflix memiliki durasi 75-120 menit."
      ]
    },
    {
      "cell_type": "markdown",
      "id": "c7cd7726",
      "metadata": {
        "id": "c7cd7726"
      },
      "source": [
        "## Banyaknya Season TV Shows"
      ]
    },
    {
      "cell_type": "code",
      "execution_count": null,
      "id": "3d4cb063",
      "metadata": {
        "scrolled": false,
        "id": "3d4cb063"
      },
      "outputs": [],
      "source": [
        "f = ['title','duration']\n",
        "durations = TVshows[f]\n",
        "durations['seasons'] = durations.duration.str.replace(' Season','')\n",
        "durations['seasons'] = durations['seasons'].str.replace('s','')\n",
        "durations['seasons'] = durations['seasons'].astype(str).astype(int)"
      ]
    },
    {
      "cell_type": "code",
      "execution_count": null,
      "id": "3cd4f595",
      "metadata": {
        "id": "3cd4f595",
        "outputId": "fe3dee94-49fd-433d-c722-e83503e6dc8e"
      },
      "outputs": [
        {
          "data": {
            "image/png": "[encoded data removed]",
            "text/plain": [
              "<Figure size 1440x720 with 1 Axes>"
            ]
          },
          "metadata": {},
          "output_type": "display_data"
        }
      ],
      "source": [
        "plt.figure(figsize=(20,10))\n",
        "sns.countplot(x='seasons', data=durations, palette='Pastel1')\n",
        "plt.show()"
      ]
    },
    {
      "cell_type": "markdown",
      "id": "5b0cb203",
      "metadata": {
        "id": "5b0cb203"
      },
      "source": [
        "Dari grafik di atas terlihat bahwa TV Show dengan durasi 1 season mendominasi Netflix. Serta dapat kita katakan pula, semakin banyak seasonnya, semakin sedikit jumlah judul kontennya di Netflix.\n",
        "\n",
        "Terlihat pula terdapat beberapa TV Show dengan jumlah season yang panjang. Season terbanyak dari konten TV Show di Netflix adalah sebesar 17 season."
      ]
    },
    {
      "cell_type": "markdown",
      "id": "421b763d",
      "metadata": {
        "id": "421b763d"
      },
      "source": [
        "## Plot Top 10 TV Shows dengan Season terpanjang :D"
      ]
    },
    {
      "cell_type": "code",
      "execution_count": null,
      "id": "98d8c346",
      "metadata": {
        "id": "98d8c346",
        "outputId": "87cfa8af-a9a0-4d42-ba96-1e6be6ec92d7"
      },
      "outputs": [
        {
          "data": {
            "image/png": "[encoded data removed]",
            "text/plain": [
              "<Figure size 720x720 with 1 Axes>"
            ]
          },
          "metadata": {},
          "output_type": "display_data"
        }
      ],
      "source": [
        "t = ['title', 'seasons']\n",
        "top = durations[t]\n",
        "top = top.sort_values(by='seasons', ascending=False)\n",
        "top10 = top[0:10]\n",
        "plt.figure(figsize=(10,10))\n",
        "sns.barplot(x = top10.seasons, y = top10.title, palette = 'Set2')\n",
        "plt.xlabel('Number of Seasons')\n",
        "plt.ylabel('Title')\n",
        "plt.show()"
      ]
    },
    {
      "cell_type": "markdown",
      "id": "6c0bfba3",
      "metadata": {
        "id": "6c0bfba3"
      },
      "source": [
        "Dari grafik di atas terlihat bahwa Grey's Anatomy adalah TV Show dengan season terpanjang di Netflix, yaitu dengan total 17 season.\n",
        "\n",
        "Kemudian di posisi kedua terbanyak, terdapat Supernatural dan NCIS dengan total 15 season.\n",
        "\n",
        "Di posisi keempat terbanyak, terdapat Heartland, COMEDIANS of the world, dan Red vs. Blue dengan total 13 season.\n",
        "\n",
        "Di posisi ketujuh terbanyak, terdapat Trailer Park Boys dan Criminal Minds dengan total 12 season.\n",
        "\n",
        "Dan di poisisi kesembilan terbanyak, terdapat Frassier dan Cheers dengan total 11 season."
      ]
    }
  ],
  "metadata": {
    "kernelspec": {
      "display_name": "Python 3 (ipykernel)",
      "language": "python",
      "name": "python3"
    },
    "language_info": {
      "codemirror_mode": {
        "name": "ipython",
        "version": 3
      },
      "file_extension": ".py",
      "mimetype": "text/x-python",
      "name": "python",
      "nbconvert_exporter": "python",
      "pygments_lexer": "ipython3",
      "version": "3.9.7"
    },
    "colab": {
      "provenance": [],
      "toc_visible": true,
      "include_colab_link": true
    }
  },
  "nbformat": 4,
  "nbformat_minor": 5
}